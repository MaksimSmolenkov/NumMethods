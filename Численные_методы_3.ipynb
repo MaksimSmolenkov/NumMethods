{
  "nbformat": 4,
  "nbformat_minor": 0,
  "metadata": {
    "colab": {
      "provenance": [],
      "authorship_tag": "ABX9TyOIDNO/EU6lmtPfHYw+/pP2",
      "include_colab_link": true
    },
    "kernelspec": {
      "name": "python3",
      "display_name": "Python 3"
    },
    "language_info": {
      "name": "python"
    }
  },
  "cells": [
    {
      "cell_type": "markdown",
      "metadata": {
        "id": "view-in-github",
        "colab_type": "text"
      },
      "source": [
        "<a href=\"https://colab.research.google.com/github/MaksimSmolenkov/NumMethods/blob/main/%D0%A7%D0%B8%D1%81%D0%BB%D0%B5%D0%BD%D0%BD%D1%8B%D0%B5_%D0%BC%D0%B5%D1%82%D0%BE%D0%B4%D1%8B_3.ipynb\" target=\"_parent\"><img src=\"https://colab.research.google.com/assets/colab-badge.svg\" alt=\"Open In Colab\"/></a>"
      ]
    },
    {
      "cell_type": "markdown",
      "source": [
        "# 3 Лабораторная 16 вариант"
      ],
      "metadata": {
        "id": "djnX0V7aBX_r"
      }
    },
    {
      "cell_type": "code",
      "source": [
        "import numpy as np\n",
        "import math\n",
        "m = 16"
      ],
      "metadata": {
        "id": "b9xHVLanBgq7"
      },
      "execution_count": null,
      "outputs": []
    },
    {
      "cell_type": "markdown",
      "source": [
        "# Метод Гаусса"
      ],
      "metadata": {
        "id": "uiDNRg5eSyZ7"
      }
    },
    {
      "cell_type": "code",
      "execution_count": null,
      "metadata": {
        "id": "INPAe0JvBUcv"
      },
      "outputs": [],
      "source": [
        "def gaussian_elimination(A, b):\n",
        "    n = len(b)\n",
        "\n",
        "    for i in range(n):\n",
        "        # Находим максимальный элемент в столбце\n",
        "        max_row = i + np.argmax(np.abs(A[i:, i]))\n",
        "        # Меняем местами текущую строку и строку с максимальным элементом\n",
        "        A[[i, max_row]] = A[[max_row, i]]\n",
        "        b[i], b[max_row] = b[max_row], b[i]\n",
        "\n",
        "        # Обнуляем элементы под текущим элементом главной диагонали\n",
        "        for j in range(i + 1, n):\n",
        "            factor = A[j][i] / A[i][i]\n",
        "            A[j] -= factor * A[i]\n",
        "            b[j] -= factor * b[i]\n",
        "\n",
        "    # Обратный ход\n",
        "    x = np.zeros(n)\n",
        "    for i in range(n - 1, -1, -1):\n",
        "        x[i] = round((b[i] - np.dot(A[i, i + 1:], x[i + 1:])) / A[i][i])\n",
        "\n",
        "    return x\n"
      ]
    },
    {
      "cell_type": "code",
      "source": [
        "A = np.array([[1, 1, 1, 0],\n",
        "              [1, 2, 2, 2],\n",
        "              [2, 3, 4, 4],\n",
        "              [3, 4, 5, 6]], dtype=float)\n",
        "\n",
        "b = np.array([0, 1, 1, 1], dtype=float)\n",
        "\n",
        "solution = gaussian_elimination(A, b)\n",
        "print(\"Решение:\", solution)"
      ],
      "metadata": {
        "colab": {
          "base_uri": "https://localhost:8080/"
        },
        "id": "UDJegv0wBj39",
        "outputId": "688a8a51-6d9c-4db6-a920-7d2111d1470f"
      },
      "execution_count": null,
      "outputs": [
        {
          "output_type": "stream",
          "name": "stdout",
          "text": [
            "Решение: [-1.  1.  0.  0.]\n"
          ]
        }
      ]
    },
    {
      "cell_type": "markdown",
      "source": [
        "# Метод обратной матрицы"
      ],
      "metadata": {
        "id": "8pGXdXDlF8C-"
      }
    },
    {
      "cell_type": "code",
      "source": [
        "import numpy as np\n",
        "\n",
        "def solve_with_inverse(A, b):\n",
        "    # Проверяем, является ли матрица A квадратной\n",
        "    if A.shape[0] != A.shape[1]:\n",
        "        raise ValueError(\"Матрица A должна быть квадратной.\")\n",
        "\n",
        "    # Находим обратную матрицу\n",
        "    try:\n",
        "        A_inv = np.linalg.inv(A)\n",
        "    except np.linalg.LinAlgError:\n",
        "        raise ValueError(\"Матрица A не имеет обратной матрицы (вырождена).\")\n",
        "\n",
        "    # Находим решение\n",
        "    x = np.dot(A_inv, b)\n",
        "    x = np.round(x).astype(int)\n",
        "    return x"
      ],
      "metadata": {
        "id": "I7mR6qm5F-a7"
      },
      "execution_count": null,
      "outputs": []
    },
    {
      "cell_type": "code",
      "source": [
        "solution = solve_with_inverse(A, b)\n",
        "solution.astype(int)\n",
        "print(\"Решение:\", solution)"
      ],
      "metadata": {
        "colab": {
          "base_uri": "https://localhost:8080/"
        },
        "id": "HottjVNuGCsI",
        "outputId": "bd310153-fae3-49ed-b304-f5921d2b456e"
      },
      "execution_count": null,
      "outputs": [
        {
          "output_type": "stream",
          "name": "stdout",
          "text": [
            "Решение: [-1  1  0  0]\n"
          ]
        }
      ]
    },
    {
      "cell_type": "markdown",
      "source": [
        "## Метод Зейделя"
      ],
      "metadata": {
        "id": "sVRnQyExMkjM"
      }
    },
    {
      "cell_type": "code",
      "source": [
        "def seidel(A, b, x0=None, tolerance=1e-10, max_iterations=1000):\n",
        "    n = len(b)\n",
        "\n",
        "    # Начальное приближение\n",
        "    if x0 is None:\n",
        "        x0 = np.zeros(n)\n",
        "\n",
        "    x = np.copy(x0)\n",
        "\n",
        "    for iteration in range(max_iterations):\n",
        "        x_old = np.copy(x)\n",
        "\n",
        "        for i in range(n):\n",
        "            # Вычисляем сумму для текущего уравнения\n",
        "            sigma = sum(A[i][j] * x[j] for j in range(n) if j != i)\n",
        "            # Обновляем значение x[i]\n",
        "            x[i] = (b[i] - sigma) / A[i][i]\n",
        "\n",
        "        # Проверяем условие сходимости\n",
        "        if np.linalg.norm(x - x_old, ord=np.inf) < tolerance:\n",
        "            print(f\"Сошлось за {iteration + 1} итераций.\")\n",
        "            return x\n",
        "\n",
        "    raise ValueError(\"Метод не сошелся за максимальное число итераций.\")"
      ],
      "metadata": {
        "id": "h8pdz_FXModD"
      },
      "execution_count": null,
      "outputs": []
    },
    {
      "cell_type": "code",
      "source": [
        "A = np.array([[3, 1, -1, 1],\n",
        "              [1, -4, 1, -1],\n",
        "              [-1, 1, 4, 1],\n",
        "              [1, 2, 1, -5]], dtype=float)\n",
        "\n",
        "b = np.array([3*m, m-6, 15-m, m+2], dtype=float)\n",
        "\n",
        "solution = seidel(A, b)\n",
        "print(\"Решение:\", solution)"
      ],
      "metadata": {
        "colab": {
          "base_uri": "https://localhost:8080/"
        },
        "id": "sQ5F5T4IMzZL",
        "outputId": "04b3d56e-d1be-4be5-c795-2c9e12aa1ed5"
      },
      "execution_count": null,
      "outputs": [
        {
          "output_type": "stream",
          "name": "stdout",
          "text": [
            "Сошлось за 21 итераций.\n",
            "Решение: [16.  2.  3.  1.]\n"
          ]
        }
      ]
    },
    {
      "cell_type": "markdown",
      "source": [
        "# Метод Якоби"
      ],
      "metadata": {
        "id": "gcjuqpbZNsY9"
      }
    },
    {
      "cell_type": "code",
      "source": [
        "def jacobi(A, b, x0=None, tolerance=0.01, max_iterations=1000):\n",
        "    n = len(b)\n",
        "\n",
        "    # Начальное приближение\n",
        "    if x0 is None:\n",
        "        x0 = np.zeros(n)\n",
        "\n",
        "    x = np.copy(x0)\n",
        "\n",
        "    for iteration in range(max_iterations):\n",
        "        x_old = np.copy(x)\n",
        "\n",
        "        for i in range(n):\n",
        "            # Вычисляем сумму для текущего уравнения\n",
        "            sigma = sum(A[i][j] * x_old[j] for j in range(n) if j != i)\n",
        "            # Обновляем значение x[i]\n",
        "            x[i] = (b[i] - sigma) / A[i][i]\n",
        "\n",
        "        # Проверяем условие сходимости\n",
        "        if np.linalg.norm(x - x_old, ord=np.inf) < tolerance:\n",
        "            print(f\"Сошлось за {iteration + 1} итераций.\")\n",
        "            return x\n",
        "\n",
        "    raise ValueError(\"Метод не сошелся за максимальное число итераций.\")"
      ],
      "metadata": {
        "id": "aPrqgf_eNvTC"
      },
      "execution_count": null,
      "outputs": []
    },
    {
      "cell_type": "code",
      "source": [
        "solution = jacobi(A, b)\n",
        "print(\"Решение:\", solution)"
      ],
      "metadata": {
        "colab": {
          "base_uri": "https://localhost:8080/"
        },
        "id": "4Cr20mATNx1X",
        "outputId": "a7887d9c-55d6-4c9d-fa7a-60df6079589f"
      },
      "execution_count": null,
      "outputs": [
        {
          "output_type": "stream",
          "name": "stdout",
          "text": [
            "Сошлось за 15 итераций.\n",
            "Решение: [15.99776066  1.99621605  2.99796596  0.99691651]\n"
          ]
        }
      ]
    },
    {
      "cell_type": "markdown",
      "source": [
        "# Метод прогонки"
      ],
      "metadata": {
        "id": "LthB9zG2PUox"
      }
    },
    {
      "cell_type": "code",
      "source": [
        "def tridiagonal_solver(a, b, c, d):\n",
        "    \"\"\"\n",
        "    Решает систему линейных уравнений Ax = d, где A - трёхдиагональная матрица.\n",
        "\n",
        "    Параметры:\n",
        "    a : array-like\n",
        "        Поддиагональные элементы (длина n-1).\n",
        "    b : array-like\n",
        "        Диагональные элементы (длина n).\n",
        "    c : array-like\n",
        "        Наддиагональные элементы (длина n-1).\n",
        "    d : array-like\n",
        "        Правая часть (длина n).\n",
        "\n",
        "    Возвращает:\n",
        "    x : array\n",
        "        Решение системы линейных уравнений.\n",
        "    \"\"\"\n",
        "    n = len(d)\n",
        "\n",
        "    # Прямой ход\n",
        "    for i in range(1, n):\n",
        "        w = a[i-1] / b[i-1]\n",
        "        b[i] -= w * c[i-1]\n",
        "        d[i] -= w * d[i-1]\n",
        "\n",
        "    # Обратный ход\n",
        "    x = np.zeros(n)\n",
        "    x[-1] = d[-1] / b[-1]\n",
        "\n",
        "    for i in range(n-2, -1, -1):\n",
        "        x[i] = (d[i] - c[i] * x[i+1]) / b[i]\n",
        "\n",
        "    return x"
      ],
      "metadata": {
        "id": "HwALWaK8PULM"
      },
      "execution_count": null,
      "outputs": []
    },
    {
      "cell_type": "code",
      "source": [
        "a = np.array([2, 1.1, 5, -2])  # Поддиагональные элементы (n-1)\n",
        "b = np.array([-3, -5, 4, 9, 6.5])  # Диагональные элементы (n)\n",
        "c = np.array([1.2, 1, -1, 2])  # Наддиагональные элементы (n-1)\n",
        "d = np.array([-1.7, -2, 3, 11, 2])  # Правая часть\n",
        "\n",
        "solution = tridiagonal_solver(a, b, c, d)\n",
        "print(\"Решение:\", solution)"
      ],
      "metadata": {
        "colab": {
          "base_uri": "https://localhost:8080/"
        },
        "id": "x7PmIBTUPoBq",
        "outputId": "ab498150-f9aa-4258-e78d-bcea29c0b446"
      },
      "execution_count": null,
      "outputs": [
        {
          "output_type": "stream",
          "name": "stdout",
          "text": [
            "Решение: [0.92999403 0.9083184  0.68160393 0.72556596 0.53094337]\n"
          ]
        }
      ]
    },
    {
      "cell_type": "markdown",
      "source": [
        "# 2 Часть"
      ],
      "metadata": {
        "id": "1aoqP-hO-KdI"
      }
    },
    {
      "cell_type": "code",
      "source": [
        "A = ([[-7.46, 11.24, -0.54, 14.31],\n",
        "                [0.16, 17.15, -1.11, 10.16],\n",
        "                [23.17, 10.26, 1.19, 7.43],\n",
        "                [-28.16, 0.15, 0.97, -3.41]])\n",
        "\n",
        "\n",
        "eigenvalues, eigenvectors = np.linalg.eig(A)\n",
        "\n",
        "print(\"Собственные векторы: \",eigenvectors )\n",
        "print(\"Собственные числа: \", eigenvalues )"
      ],
      "metadata": {
        "colab": {
          "base_uri": "https://localhost:8080/"
        },
        "id": "-Wc4xC57Acv_",
        "outputId": "dae0bf5e-95c9-43eb-cf9d-c2efdb9952a4"
      },
      "execution_count": null,
      "outputs": [
        {
          "output_type": "stream",
          "name": "stdout",
          "text": [
            "Собственные векторы:  [[ 0.01825587+0.40302727j  0.01825587-0.40302727j  0.15505197+0.j\n",
            "   0.03388407+0.j        ]\n",
            " [ 0.19846049+0.16674582j  0.19846049-0.16674582j  0.59845881+0.j\n",
            "   0.07382927+0.j        ]\n",
            " [ 0.60643312-0.03586319j  0.60643312+0.03586319j  0.75083704+0.j\n",
            "   0.99668772+0.j        ]\n",
            " [-0.6332438 +0.j         -0.6332438 -0.j         -0.23248585+0.j\n",
            "   0.00383501+0.j        ]]\n",
            "Собственные числа:  [-3.57411344+17.93783582j -3.57411344-17.93783582j\n",
            " 11.85192949 +0.j          2.76629739 +0.j        ]\n"
          ]
        }
      ]
    }
  ]
}